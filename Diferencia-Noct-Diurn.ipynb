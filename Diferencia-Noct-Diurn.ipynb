{
 "cells": [
  {
   "cell_type": "markdown",
   "metadata": {},
   "source": [
    "# ¿Los estudiantes de jornada nocturna tienen puntajes más bajos que los de jornada diurna? \n"
   ]
  },
  {
   "cell_type": "markdown",
   "metadata": {},
   "source": [
    "### En este apartado vamos a verificar si la jornada de los estudiantes tiene relación con su desempeño."
   ]
  },
  {
   "cell_type": "code",
   "execution_count": null,
   "metadata": {},
   "outputs": [],
   "source": [
    "import pandas as pd\n",
    "import matplotlib as plt\n",
    "import seaborn as sns\n",
    "\n",
    "df = pd.read_csv(\"https://www.datos.gov.co/resource/kgxf-xxbe.csv\")\n",
    "\n",
    "plt.figure(figsize=(10, 5))\n",
    "sns.boxplot(x=df['jornada'], y=df['puntaje_global'], palette='Set2')\n",
    "\n",
    "plt.xlabel('Jornada')\n",
    "plt.ylabel('Puntaje Global')\n",
    "plt.title('Distribución del Puntaje Global según Jornada')\n",
    "plt.grid(axis='y', linestyle='--', alpha=0.7)\n",
    "\n",
    "plt.show()\n"
   ]
  }
 ],
 "metadata": {
  "kernelspec": {
   "display_name": "Python 3",
   "language": "python",
   "name": "python3"
  },
  "language_info": {
   "name": "python",
   "version": "3.13.2"
  }
 },
 "nbformat": 4,
 "nbformat_minor": 2
}
